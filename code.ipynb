{
 "cells": [
  {
   "cell_type": "code",
   "execution_count": 1,
   "id": "f03001cd",
   "metadata": {},
   "outputs": [],
   "source": [
    "import os\n",
    "import re\n",
    "from pdfminer.high_level import extract_text\n",
    "from pdfminer.layout import LAParams\n",
    "from langchain.embeddings.openai import OpenAIEmbeddings\n",
    "from langchain.vectorstores import Chroma\n",
    "from langchain.text_splitter import CharacterTextSplitter\n",
    "from langchain import OpenAI, VectorDBQA\n",
    "from langchain.document_loaders import DirectoryLoader\n",
    "import magic\n",
    "import os\n",
    "import nltk"
   ]
  },
  {
   "cell_type": "code",
   "execution_count": 2,
   "id": "a450f09c",
   "metadata": {},
   "outputs": [],
   "source": [
    "import os\n",
    "\n",
    "os.environ['OPENAI_API_KEY'] = 'sk-xxxxxxxxxxxxxxxxxxxxxxxxxxxxxxx'\n"
   ]
  },
  {
   "cell_type": "code",
   "execution_count": 3,
   "id": "5ae15f48",
   "metadata": {},
   "outputs": [],
   "source": [
    "\n",
    "# PDF to text conversion functions\n",
    "def convert_pdf_to_text(pdf_path):\n",
    "    laparams = LAParams()\n",
    "    text = extract_text(pdf_path, laparams=laparams)\n",
    "    cleaned_text = clean_text(text)\n",
    "    return cleaned_text\n",
    "\n",
    "def clean_text(text):\n",
    "    cleaned_text = re.sub(r'\\s+', ' ', text)\n",
    "    cleaned_text = cleaned_text.replace('\\n', ' ')\n",
    "    cleaned_text = cleaned_text.lower()\n",
    "    return cleaned_text\n",
    "\n",
    "def process_pdfs(input_dir, output_dir):\n",
    "    for file in os.listdir(input_dir):\n",
    "        if file.endswith('.pdf'):\n",
    "            pdf_path = os.path.join(input_dir, file)\n",
    "            text = convert_pdf_to_text(pdf_path)\n",
    "\n",
    "            output_file = os.path.join(output_dir, f\"{os.path.splitext(file)[0]}.txt\")\n",
    "            with open(output_file, 'w', encoding='utf-8') as f:\n",
    "                f.write(text)\n",
    "                \n",
    "# Set input and output directories\n",
    "input_dir = 'C:/Users/visha/OneDrive/Desktop/Miracle Project/pdf/'\n",
    "output_dir = 'C:/Users/visha/OneDrive/Desktop/Miracle Project/text/'\n",
    "\n",
    "# Process all PDFs in the input directory\n",
    "process_pdfs(input_dir, output_dir)"
   ]
  },
  {
   "cell_type": "code",
   "execution_count": 4,
   "id": "96fab5e5",
   "metadata": {},
   "outputs": [],
   "source": [
    "loader = DirectoryLoader('./text/', glob='**/*.txt')\n",
    "documents = loader.load()\n"
   ]
  },
  {
   "cell_type": "code",
   "execution_count": 5,
   "id": "e55915d8",
   "metadata": {
    "scrolled": false
   },
   "outputs": [
    {
     "data": {
      "text/plain": [
       "[Document(page_content=\"personal finance is an essential part of our daily lives that impacts our financial well-being in the short and long term. however, it can be challenging to manage our finances effectively. here are some tips to help you improve your personal finance skills: first, create a budget. this involves identifying your income and expenses, and allocating your money to different categories. a budget helps you track your spending and make informed decisions about where to allocate your money. second, set financial goals for yourself. this could include saving for a down payment on a house, paying off debt, or investing for retirement. having clear goals helps you stay motivated and focused on your long-term financial success. third, reduce debt. debt can be a major barrier to achieving your financial goals. focus on paying it down as quickly as possible. consider consolidating high-interest debt, negotiating with creditors for lower interest rates, or finding ways to reduce your expenses to free up more money for debt repayment. fourth, save for emergencies. unexpected expenses can arise at any time, so it's important to have an emergency fund. aim to save enough to cover three to six months of living expenses in case of a job loss, medical emergency, or other unexpected event. fifth, invest for the future. investing can be a powerful tool for building wealth over time. consider investing in a retirement account, such as a 401(k) or ira, to take advantage of tax benefits and compound interest. you may also want to consider investing in a diversified portfolio of stocks, bonds, and other assets to grow your wealth over the long term. sixth, monitor your credit score. your credit score plays a major role in your ability to obtain loans, credit cards, and other financial products. regularly monitor your credit score and take steps to improve it if necessary, such as paying bills on time, reducing debt, and disputing errors on your credit report. finally, seek professional advice if you're struggling to manage your finances or achieve your financial goals. a financial planner or advisor can provide personalized guidance and help you create a plan that meets your specific needs and goals. by following these tips, you can improve your personal finance skills and build a strong foundation for your financial future.\", lookup_str='', metadata={'source': 'text\\\\1.txt'}, lookup_index=0),\n",
       " Document(page_content=\"personal finance is an important aspect of our lives that can greatly affect our financial well-being. however, it can be challenging to navigate the world of personal finance without the right knowledge and skills. here are some additional tips to help you improve your personal finance skills: first, learn to live within your means. this means spending less than you earn and avoiding the temptation to overspend or go into debt. start by tracking your expenses and identifying areas where you can cut back on unnecessary spending. second, prioritize your financial goals. decide what's most important to you, whether it's paying off debt, saving for a down payment on a house, or investing for retirement. prioritizing your goals helps you stay focused and motivated, even when faced with financial challenges. third, be proactive about managing your finances. this includes regularly reviewing your budget, tracking your spending, and monitoring your credit score. staying on top of your finances can help you avoid costly mistakes and make informed decisions about your money. fourth, consider the impact of major life events on your finances. events such as marriage, children, and career changes can all have a significant impact on your financial situation. be prepared to adjust your financial plan as needed to accommodate these changes. fifth, take advantage of financial resources and tools. there are many free resources available to help you improve your personal finance skills, including online calculators, budgeting apps, and educational resources from financial institutions. finally, be patient and persistent. building a strong financial foundation takes time and effort. be patient and persistent in your efforts to improve your finances, and don't give up if you encounter setbacks or challenges. improving your personal finance skills can have a significant impact on your financial well-being and long-term success. by learning to live within your means, prioritizing your goals, being proactive about managing your finances, considering the impact of major life events, taking advantage of financial resources and tools, and being patient and persistent, you can build a strong financial future for yourself and your family.\", lookup_str='', metadata={'source': 'text\\\\2.txt'}, lookup_index=0),\n",
       " Document(page_content=\"real estate investing can be a great way to build long-term wealth and achieve financial freedom. however, investing in real estate during a recession can be especially challenging. here are some tips to help you navigate the real estate market during a recession: first, be cautious. during a recession, the real estate market can be volatile and unpredictable. prices can fluctuate rapidly, and demand for properties can drop significantly. be prepared to take a more cautious approach to investing, and avoid taking on unnecessary risks. second, focus on cash flow. in a recession, cash flow becomes even more important. make sure the properties you invest in have a strong potential for rental income, and focus on generating positive cash flow. this will help you weather any market downturns and stay profitable in the long term. third, be flexible. during a recession, the real estate market can change rapidly. be prepared to adapt to changing market conditions and adjust your investment strategy as needed. this may mean investing in different types of properties, looking for new markets, or taking advantage of new financing options. fourth, consider distressed properties. during a recession, many properties may fall into distress, whether due to foreclosures, bankruptcies, or other factors. these distressed properties can offer opportunities for investors who are willing to take on some risk. however, be sure to thoroughly research any distressed properties and understand the potential risks involved before investing. fifth, have a contingency plan. in a recession, unexpected events can occur that can impact your investments. make sure you have a contingency plan in place to deal with any unexpected situations, such as a tenant defaulting on rent or a sudden drop in property value. sixth, work with experienced professionals. during a recession, it's especially important to work with experienced real estate professionals who can help you navigate the market and identify opportunities. consider working with a real estate agent, attorney, or other professionals who have experience in investing during a recession. finally, be patient. investing in real estate during a recession can be a long-term strategy. be patient and stay focused on your investment goals, even if it takes longer to achieve them than you originally anticipated. in conclusion, investing in real estate during a recession can be challenging, but it can also offer opportunities for savvy investors. by being cautious, focusing on cash flow, being flexible, considering distressed properties, having a contingency plan, working with experienced professionals, and being patient, you can navigate the real estate market during a recession and build long-term wealth.\", lookup_str='', metadata={'source': 'text\\\\3.txt'}, lookup_index=0),\n",
       " Document(page_content=\"real estate investing can be a great way to build long-term wealth and achieve financial freedom. however, it's important to approach real estate investing with the right mindset and strategies. here are some additional tips to help you succeed in real estate investing: first, educate yourself about the different types of real estate investments. real estate investing encompasses a wide range of strategies, from flipping houses to owning rental properties to investing in real estate investment trusts (reits). learn about the different options available and choose the strategy that aligns with your investment goals and risk tolerance. second, do your due diligence. before investing in any property, make sure you thoroughly research the market and the property itself. this includes looking at sales data, rental rates, vacancy rates, and property condition. you should also consider the location of the property, including factors such as school districts, crime rates, and proximity to amenities. third, build a team of professionals. real estate investing requires a team of professionals, including real estate agents, property managers, contractors, and attorneys. build a network of trusted professionals who can help you navigate the complex world of real estate investing. fourth, understand the financing options available to you. real estate investing often requires financing, and there are many options available, including traditional bank loans, private lenders, and hard money loans. each option has its pros and cons, so it's important to understand the terms and choose the option that best aligns with your investment goals. fifth, focus on long-term value. real estate investing is a long-term strategy, so it's important to focus on the long-term value of the property. this means looking beyond short-term gains and considering factors such as potential appreciation, rental demand, and the overall condition of the property. sixth, have a plan for managing the property. whether you plan to manage the property yourself or hire a property manager, it's important to have a plan in place for managing the property. this includes regular maintenance, repairs, and upgrades, as well as managing tenants and rental income. finally, be patient and persistent. real estate investing is a long-term strategy that requires patience and persistence. stay focused on your investment goals, be prepared to adapt to changing market conditions, and don't give up if you encounter setbacks or challenges. real estate investing can be a rewarding and lucrative venture for those willing to put in the time and effort. by educating yourself about the different types of real estate investments, doing your due diligence, building a team of professionals, understanding financing options, focusing on long-term value, having a plan for managing the property, and being patient and persistent, you can build a successful real estate portfolio that generates passive income and builds long-term wealth.\", lookup_str='', metadata={'source': 'text\\\\4.txt'}, lookup_index=0),\n",
       " Document(page_content='real estate investing has always been a popular and effective way to build wealth, and it is poised to continue growing in popularity in the future. as technology advances and the world becomes more interconnected, real estate investing is likely to become more accessible and efficient than ever before. here are some ways that real estate investing is expected to change in the future: first, technology will play an increasingly important role in real estate investing. with the rise of online platforms and tools, investors can now access real-time data on the market, analyze properties remotely, and even invest in properties from the comfort of their own homes. this is likely to lead to greater transparency, efficiency, and accessibility in the real estate market. second, there will be a growing emphasis on sustainable and eco-friendly properties. as awareness of climate change and environmental issues grows, more investors will be looking for properties that are energy-efficient, sustainable, and environmentally friendly. this will create new opportunities for investors who specialize in green real estate. third, the sharing economy will continue to shape the real estate market. companies like airbnb and vrbo have already disrupted the traditional rental market by allowing property owners to rent out their homes on a short-term basis. in the future, we can expect to see more sharing economy platforms emerge, creating new opportunities for real estate investors to profit from short-term rentals. fourth, real estate investment trusts (reits) are likely to become more popular. reits allow investors to invest in a diversified portfolio of real estate properties without having to own and manage the properties themselves. as technology makes it easier to invest in reits, we can expect to see more investors turning to this option for their real estate investments. fifth, we may see more international investment in real estate. as the world becomes more connected and borders become more fluid, investors from around the world may increasingly seek out opportunities in foreign real estate markets. this could create new opportunities for investors who are willing to take on the risks and challenges of investing in foreign markets. in conclusion, real estate investing is likely to continue growing in popularity in the future. as technology advances, the market becomes more sustainable and eco-friendlier, the sharing economy continues to disrupt traditional rental markets, and international investment opportunities arise. by staying informed and adapting to these changes, real estate investors can continue to build wealth and achieve financial freedom in the years to come.', lookup_str='', metadata={'source': 'text\\\\5.txt'}, lookup_index=0)]"
      ]
     },
     "execution_count": 5,
     "metadata": {},
     "output_type": "execute_result"
    }
   ],
   "source": [
    "documents"
   ]
  },
  {
   "cell_type": "code",
   "execution_count": 7,
   "id": "d0a0a3d6",
   "metadata": {},
   "outputs": [],
   "source": [
    "text_splitter = CharacterTextSplitter(chunk_size=1000, chunk_overlap=0)\n",
    "texts = text_splitter.split_documents(documents)"
   ]
  },
  {
   "cell_type": "code",
   "execution_count": 8,
   "id": "fecebcaa",
   "metadata": {},
   "outputs": [
    {
     "data": {
      "text/plain": [
       "[Document(page_content=\"personal finance is an essential part of our daily lives that impacts our financial well-being in the short and long term. however, it can be challenging to manage our finances effectively. here are some tips to help you improve your personal finance skills: first, create a budget. this involves identifying your income and expenses, and allocating your money to different categories. a budget helps you track your spending and make informed decisions about where to allocate your money. second, set financial goals for yourself. this could include saving for a down payment on a house, paying off debt, or investing for retirement. having clear goals helps you stay motivated and focused on your long-term financial success. third, reduce debt. debt can be a major barrier to achieving your financial goals. focus on paying it down as quickly as possible. consider consolidating high-interest debt, negotiating with creditors for lower interest rates, or finding ways to reduce your expenses to free up more money for debt repayment. fourth, save for emergencies. unexpected expenses can arise at any time, so it's important to have an emergency fund. aim to save enough to cover three to six months of living expenses in case of a job loss, medical emergency, or other unexpected event. fifth, invest for the future. investing can be a powerful tool for building wealth over time. consider investing in a retirement account, such as a 401(k) or ira, to take advantage of tax benefits and compound interest. you may also want to consider investing in a diversified portfolio of stocks, bonds, and other assets to grow your wealth over the long term. sixth, monitor your credit score. your credit score plays a major role in your ability to obtain loans, credit cards, and other financial products. regularly monitor your credit score and take steps to improve it if necessary, such as paying bills on time, reducing debt, and disputing errors on your credit report. finally, seek professional advice if you're struggling to manage your finances or achieve your financial goals. a financial planner or advisor can provide personalized guidance and help you create a plan that meets your specific needs and goals. by following these tips, you can improve your personal finance skills and build a strong foundation for your financial future.\", lookup_str='', metadata={'source': 'text\\\\1.txt'}, lookup_index=0),\n",
       " Document(page_content=\"personal finance is an important aspect of our lives that can greatly affect our financial well-being. however, it can be challenging to navigate the world of personal finance without the right knowledge and skills. here are some additional tips to help you improve your personal finance skills: first, learn to live within your means. this means spending less than you earn and avoiding the temptation to overspend or go into debt. start by tracking your expenses and identifying areas where you can cut back on unnecessary spending. second, prioritize your financial goals. decide what's most important to you, whether it's paying off debt, saving for a down payment on a house, or investing for retirement. prioritizing your goals helps you stay focused and motivated, even when faced with financial challenges. third, be proactive about managing your finances. this includes regularly reviewing your budget, tracking your spending, and monitoring your credit score. staying on top of your finances can help you avoid costly mistakes and make informed decisions about your money. fourth, consider the impact of major life events on your finances. events such as marriage, children, and career changes can all have a significant impact on your financial situation. be prepared to adjust your financial plan as needed to accommodate these changes. fifth, take advantage of financial resources and tools. there are many free resources available to help you improve your personal finance skills, including online calculators, budgeting apps, and educational resources from financial institutions. finally, be patient and persistent. building a strong financial foundation takes time and effort. be patient and persistent in your efforts to improve your finances, and don't give up if you encounter setbacks or challenges. improving your personal finance skills can have a significant impact on your financial well-being and long-term success. by learning to live within your means, prioritizing your goals, being proactive about managing your finances, considering the impact of major life events, taking advantage of financial resources and tools, and being patient and persistent, you can build a strong financial future for yourself and your family.\", lookup_str='', metadata={'source': 'text\\\\2.txt'}, lookup_index=0),\n",
       " Document(page_content=\"real estate investing can be a great way to build long-term wealth and achieve financial freedom. however, investing in real estate during a recession can be especially challenging. here are some tips to help you navigate the real estate market during a recession: first, be cautious. during a recession, the real estate market can be volatile and unpredictable. prices can fluctuate rapidly, and demand for properties can drop significantly. be prepared to take a more cautious approach to investing, and avoid taking on unnecessary risks. second, focus on cash flow. in a recession, cash flow becomes even more important. make sure the properties you invest in have a strong potential for rental income, and focus on generating positive cash flow. this will help you weather any market downturns and stay profitable in the long term. third, be flexible. during a recession, the real estate market can change rapidly. be prepared to adapt to changing market conditions and adjust your investment strategy as needed. this may mean investing in different types of properties, looking for new markets, or taking advantage of new financing options. fourth, consider distressed properties. during a recession, many properties may fall into distress, whether due to foreclosures, bankruptcies, or other factors. these distressed properties can offer opportunities for investors who are willing to take on some risk. however, be sure to thoroughly research any distressed properties and understand the potential risks involved before investing. fifth, have a contingency plan. in a recession, unexpected events can occur that can impact your investments. make sure you have a contingency plan in place to deal with any unexpected situations, such as a tenant defaulting on rent or a sudden drop in property value. sixth, work with experienced professionals. during a recession, it's especially important to work with experienced real estate professionals who can help you navigate the market and identify opportunities. consider working with a real estate agent, attorney, or other professionals who have experience in investing during a recession. finally, be patient. investing in real estate during a recession can be a long-term strategy. be patient and stay focused on your investment goals, even if it takes longer to achieve them than you originally anticipated. in conclusion, investing in real estate during a recession can be challenging, but it can also offer opportunities for savvy investors. by being cautious, focusing on cash flow, being flexible, considering distressed properties, having a contingency plan, working with experienced professionals, and being patient, you can navigate the real estate market during a recession and build long-term wealth.\", lookup_str='', metadata={'source': 'text\\\\3.txt'}, lookup_index=0),\n",
       " Document(page_content=\"real estate investing can be a great way to build long-term wealth and achieve financial freedom. however, it's important to approach real estate investing with the right mindset and strategies. here are some additional tips to help you succeed in real estate investing: first, educate yourself about the different types of real estate investments. real estate investing encompasses a wide range of strategies, from flipping houses to owning rental properties to investing in real estate investment trusts (reits). learn about the different options available and choose the strategy that aligns with your investment goals and risk tolerance. second, do your due diligence. before investing in any property, make sure you thoroughly research the market and the property itself. this includes looking at sales data, rental rates, vacancy rates, and property condition. you should also consider the location of the property, including factors such as school districts, crime rates, and proximity to amenities. third, build a team of professionals. real estate investing requires a team of professionals, including real estate agents, property managers, contractors, and attorneys. build a network of trusted professionals who can help you navigate the complex world of real estate investing. fourth, understand the financing options available to you. real estate investing often requires financing, and there are many options available, including traditional bank loans, private lenders, and hard money loans. each option has its pros and cons, so it's important to understand the terms and choose the option that best aligns with your investment goals. fifth, focus on long-term value. real estate investing is a long-term strategy, so it's important to focus on the long-term value of the property. this means looking beyond short-term gains and considering factors such as potential appreciation, rental demand, and the overall condition of the property. sixth, have a plan for managing the property. whether you plan to manage the property yourself or hire a property manager, it's important to have a plan in place for managing the property. this includes regular maintenance, repairs, and upgrades, as well as managing tenants and rental income. finally, be patient and persistent. real estate investing is a long-term strategy that requires patience and persistence. stay focused on your investment goals, be prepared to adapt to changing market conditions, and don't give up if you encounter setbacks or challenges. real estate investing can be a rewarding and lucrative venture for those willing to put in the time and effort. by educating yourself about the different types of real estate investments, doing your due diligence, building a team of professionals, understanding financing options, focusing on long-term value, having a plan for managing the property, and being patient and persistent, you can build a successful real estate portfolio that generates passive income and builds long-term wealth.\", lookup_str='', metadata={'source': 'text\\\\4.txt'}, lookup_index=0),\n",
       " Document(page_content='real estate investing has always been a popular and effective way to build wealth, and it is poised to continue growing in popularity in the future. as technology advances and the world becomes more interconnected, real estate investing is likely to become more accessible and efficient than ever before. here are some ways that real estate investing is expected to change in the future: first, technology will play an increasingly important role in real estate investing. with the rise of online platforms and tools, investors can now access real-time data on the market, analyze properties remotely, and even invest in properties from the comfort of their own homes. this is likely to lead to greater transparency, efficiency, and accessibility in the real estate market. second, there will be a growing emphasis on sustainable and eco-friendly properties. as awareness of climate change and environmental issues grows, more investors will be looking for properties that are energy-efficient, sustainable, and environmentally friendly. this will create new opportunities for investors who specialize in green real estate. third, the sharing economy will continue to shape the real estate market. companies like airbnb and vrbo have already disrupted the traditional rental market by allowing property owners to rent out their homes on a short-term basis. in the future, we can expect to see more sharing economy platforms emerge, creating new opportunities for real estate investors to profit from short-term rentals. fourth, real estate investment trusts (reits) are likely to become more popular. reits allow investors to invest in a diversified portfolio of real estate properties without having to own and manage the properties themselves. as technology makes it easier to invest in reits, we can expect to see more investors turning to this option for their real estate investments. fifth, we may see more international investment in real estate. as the world becomes more connected and borders become more fluid, investors from around the world may increasingly seek out opportunities in foreign real estate markets. this could create new opportunities for investors who are willing to take on the risks and challenges of investing in foreign markets. in conclusion, real estate investing is likely to continue growing in popularity in the future. as technology advances, the market becomes more sustainable and eco-friendlier, the sharing economy continues to disrupt traditional rental markets, and international investment opportunities arise. by staying informed and adapting to these changes, real estate investors can continue to build wealth and achieve financial freedom in the years to come.', lookup_str='', metadata={'source': 'text\\\\5.txt'}, lookup_index=0)]"
      ]
     },
     "execution_count": 8,
     "metadata": {},
     "output_type": "execute_result"
    }
   ],
   "source": [
    "texts\n"
   ]
  },
  {
   "cell_type": "code",
   "execution_count": 9,
   "id": "8d4c61bd",
   "metadata": {},
   "outputs": [
    {
     "name": "stdout",
     "output_type": "stream",
     "text": [
      "Running Chroma using direct local API.\n",
      "Using DuckDB in-memory for database. Data will be transient.\n"
     ]
    }
   ],
   "source": [
    "embeddings = OpenAIEmbeddings(openai_api_key=os.environ['OPENAI_API_KEY'])\n",
    "docsearch = Chroma.from_documents(texts, embeddings)"
   ]
  },
  {
   "cell_type": "code",
   "execution_count": 10,
   "id": "43846a61",
   "metadata": {},
   "outputs": [
    {
     "data": {
      "text/plain": [
       "\" Credit score is important because it plays a major role in your ability to obtain loans, credit cards, and other financial products. Lenders use credit scores to determine whether you are a reliable borrower, so it's important to regularly monitor your credit score and take steps to improve it if necessary.\""
      ]
     },
     "execution_count": 10,
     "metadata": {},
     "output_type": "execute_result"
    }
   ],
   "source": [
    "qa = VectorDBQA.from_chain_type(llm=OpenAI(), chain_type=\"stuff\", vectorstore=docsearch)\n",
    "query = \"Why is credit score importnant?\"\n",
    "qa.run(query)"
   ]
  },
  {
   "cell_type": "code",
   "execution_count": null,
   "id": "3917652c",
   "metadata": {},
   "outputs": [],
   "source": []
  }
 ],
 "metadata": {
  "kernelspec": {
   "display_name": "Python 3 (ipykernel)",
   "language": "python",
   "name": "python3"
  },
  "language_info": {
   "codemirror_mode": {
    "name": "ipython",
    "version": 3
   },
   "file_extension": ".py",
   "mimetype": "text/x-python",
   "name": "python",
   "nbconvert_exporter": "python",
   "pygments_lexer": "ipython3",
   "version": "3.9.13"
  },
  "varInspector": {
   "cols": {
    "lenName": 16,
    "lenType": 16,
    "lenVar": 40
   },
   "kernels_config": {
    "python": {
     "delete_cmd_postfix": "",
     "delete_cmd_prefix": "del ",
     "library": "var_list.py",
     "varRefreshCmd": "print(var_dic_list())"
    },
    "r": {
     "delete_cmd_postfix": ") ",
     "delete_cmd_prefix": "rm(",
     "library": "var_list.r",
     "varRefreshCmd": "cat(var_dic_list()) "
    }
   },
   "types_to_exclude": [
    "module",
    "function",
    "builtin_function_or_method",
    "instance",
    "_Feature"
   ],
   "window_display": false
  }
 },
 "nbformat": 4,
 "nbformat_minor": 5
}
